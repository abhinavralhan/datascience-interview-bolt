{
 "cells": [
  {
   "cell_type": "code",
   "execution_count": 286,
   "id": "8803a1fb-01fe-4f1e-bac2-91c755b2d63a",
   "metadata": {},
   "outputs": [],
   "source": [
    "import calendar\n",
    "from calendar import day_name\n",
    "import numpy as np\n",
    "import pandas as pd\n",
    "import seaborn as sns\n",
    "palette_color = sns.color_palette('pastel')\n",
    "from datetime import datetime\n",
    "from sklearn import preprocessing\n",
    "import matplotlib.pyplot as plt\n",
    "from matplotlib.pyplot import figure\n",
    "\n",
    "pd.set_option('display.max_column', 100)\n",
    "pd.set_option('display.max_rows', 50)\n",
    "pd.set_option('display.max_seq_items', 100)\n",
    "pd.set_option('display.max_colwidth', 500)\n",
    "pd.set_option('expand_frame_repr', True)\n",
    "\n",
    "import warnings\n",
    "warnings.filterwarnings(\"ignore\", category=RuntimeWarning) \n",
    "warnings.simplefilter(action='ignore', category=FutureWarning)\n",
    "warnings.simplefilter(action='ignore', category=UserWarning)\n",
    "pd.options.mode.chained_assignment = None"
   ]
  },
  {
   "cell_type": "code",
   "execution_count": 287,
   "id": "f6e648a3-7a3b-41c3-b2ef-3fce4aa49940",
   "metadata": {},
   "outputs": [],
   "source": [
    "df = pd.read_csv('Test.csv - test.csv')"
   ]
  },
  {
   "cell_type": "code",
   "execution_count": 288,
   "id": "72835d5f-a78d-4a45-b765-958fcd1163c5",
   "metadata": {},
   "outputs": [
    {
     "data": {
      "text/plain": [
       "((4943, 26), 4166, 4166)"
      ]
     },
     "execution_count": 288,
     "metadata": {},
     "output_type": "execute_result"
    }
   ],
   "source": [
    "df.shape, df.order_id_new.nunique(), df.order_try_id_new.nunique()"
   ]
  },
  {
   "cell_type": "code",
   "execution_count": 289,
   "id": "feef4238-e9f6-4aee-a882-96c4da4f5ae0",
   "metadata": {},
   "outputs": [
    {
     "name": "stdout",
     "output_type": "stream",
     "text": [
      "<class 'pandas.core.frame.DataFrame'>\n",
      "RangeIndex: 4943 entries, 0 to 4942\n",
      "Data columns (total 26 columns):\n",
      " #   Column                 Non-Null Count  Dtype  \n",
      "---  ------                 --------------  -----  \n",
      " 0   order_id_new           4943 non-null   int64  \n",
      " 1   order_try_id_new       4943 non-null   int64  \n",
      " 2   calc_created           4943 non-null   object \n",
      " 3   metered_price          4923 non-null   float64\n",
      " 4   upfront_price          3409 non-null   float64\n",
      " 5   distance               4943 non-null   int64  \n",
      " 6   duration               4943 non-null   int64  \n",
      " 7   gps_confidence         4943 non-null   int64  \n",
      " 8   entered_by             4943 non-null   object \n",
      " 9   b_state                4943 non-null   object \n",
      " 10  dest_change_number     4943 non-null   int64  \n",
      " 11  prediction_price_type  4923 non-null   object \n",
      " 12  predicted_distance     4923 non-null   float64\n",
      " 13  predicted_duration     4923 non-null   float64\n",
      " 14  change_reason_pricing  298 non-null    object \n",
      " 15  ticket_id_new          4943 non-null   int64  \n",
      " 16  device_token           0 non-null      float64\n",
      " 17  rider_app_version      4927 non-null   object \n",
      " 18  order_state            4943 non-null   object \n",
      " 19  order_try_state        4943 non-null   object \n",
      " 20  driver_app_version     4943 non-null   object \n",
      " 21  driver_device_uid_new  4943 non-null   int64  \n",
      " 22  device_name            4943 non-null   object \n",
      " 23  eu_indicator           4943 non-null   int64  \n",
      " 24  overpaid_ride_ticket   4943 non-null   int64  \n",
      " 25  fraud_score            2184 non-null   float64\n",
      "dtypes: float64(6), int64(10), object(10)\n",
      "memory usage: 1004.2+ KB\n"
     ]
    }
   ],
   "source": [
    "df.info()"
   ]
  },
  {
   "cell_type": "code",
   "execution_count": 290,
   "id": "c3073dd5-62fd-415a-bbca-330fddfd59ec",
   "metadata": {},
   "outputs": [],
   "source": [
    "df = df.drop(columns=['device_token'])"
   ]
  },
  {
   "cell_type": "code",
   "execution_count": 291,
   "id": "f9bfbcda-cc97-4ca2-989b-058cdaa3af25",
   "metadata": {},
   "outputs": [
    {
     "data": {
      "text/plain": [
       "4166"
      ]
     },
     "execution_count": 291,
     "metadata": {},
     "output_type": "execute_result"
    }
   ],
   "source": [
    "df.order_id_new.nunique()"
   ]
  },
  {
   "cell_type": "code",
   "execution_count": 292,
   "id": "ac08bcda-7224-45b3-971f-997ff34ea53d",
   "metadata": {},
   "outputs": [],
   "source": [
    "### Handle and remove duplicate - Take count of order_try_id_new, ticket_id_new and 1 if overpaid ride ticket\n",
    "\n",
    "df = df.drop(columns=['order_try_id_new', 'ticket_id_new', 'overpaid_ride_ticket']).drop_duplicates().merge(df.groupby(['order_id_new']).agg({'order_try_id_new': 'nunique', 'ticket_id_new': 'nunique', 'overpaid_ride_ticket': 'sum'}).reset_index(), how='left')"
   ]
  },
  {
   "cell_type": "code",
   "execution_count": 293,
   "id": "ee26c0e7-8daf-4522-b376-918666d518d3",
   "metadata": {},
   "outputs": [
    {
     "data": {
      "text/plain": [
       "(4166, 25)"
      ]
     },
     "execution_count": 293,
     "metadata": {},
     "output_type": "execute_result"
    }
   ],
   "source": [
    "df.shape"
   ]
  },
  {
   "cell_type": "code",
   "execution_count": 294,
   "id": "43739d95-c19e-4eb7-9f48-f8a53f1c753d",
   "metadata": {},
   "outputs": [],
   "source": [
    "df = df.drop(columns=['rider_app_version', 'driver_app_version'])"
   ]
  },
  {
   "cell_type": "code",
   "execution_count": 295,
   "id": "e29ae173-61ee-410e-b9d6-bc17d2e851dc",
   "metadata": {
    "scrolled": true
   },
   "outputs": [],
   "source": [
    "def func(x):\n",
    "    x = x.replace(\"-\", \" \")\n",
    "    x = x.replace(\"_\", \" \")\n",
    "    if 'iPhone' in x:\n",
    "        x = x[:6] + ' ' + x[6:]\n",
    "    if len(x) == 1:\n",
    "        model = ''\n",
    "    else:\n",
    "        manufacturer = x.split(' ')[0]\n",
    "        model = ' '.join(x.split(' ')[1:])\n",
    "    if 'INFINIX' in x:\n",
    "        if len(x.split(' ')) > 4:\n",
    "            manufacturer = \"Infinix\"\n",
    "            model = \" \".join(x.split(\" \")[4:])\n",
    "    if 'TECNO' in x:\n",
    "        if len(x.split(' ')) > 4:\n",
    "            # print(x)\n",
    "            manufacturer = \"TECNO\"\n",
    "            model = \" \".join(x.split(\" \")[4:])\n",
    "    if 'HMD' in x:\n",
    "        manufacturer = \"Nokia\"\n",
    "        if len(x.split(' ')) > 3:\n",
    "            model = \" \".join(x.split(\" \")[3:])\n",
    "    if manufacturer in [\"ITEL\", \"Itel\"]:\n",
    "        manufacturer = \"ITEL\"\n",
    "    return manufacturer, model\n",
    "    \n",
    "df['device_manufacturer'], df['device_model'] = zip(*df.device_name.apply(lambda x: func(x)))"
   ]
  },
  {
   "cell_type": "code",
   "execution_count": 296,
   "id": "6da100ed-eb10-44f9-a938-42254c3d6959",
   "metadata": {},
   "outputs": [
    {
     "data": {
      "text/plain": [
       "device_manufacturer\n",
       "Samsung    0.349496\n",
       "TECNO      0.172348\n",
       "HUAWEI     0.154105\n",
       "iPhone     0.088094\n",
       "Xiaomi     0.053769\n",
       "Infinix    0.049688\n",
       "Nokia      0.039846\n",
       "ITEL       0.023524\n",
       "Sony       0.010082\n",
       "LGE        0.007921\n",
       "Name: proportion, dtype: float64"
      ]
     },
     "execution_count": 296,
     "metadata": {},
     "output_type": "execute_result"
    }
   ],
   "source": [
    "df.device_manufacturer.value_counts(1).head(10)"
   ]
  },
  {
   "cell_type": "code",
   "execution_count": 297,
   "id": "2193464f-45ec-497a-b6e6-c4ff3ea2e43d",
   "metadata": {},
   "outputs": [
    {
     "data": {
      "text/plain": [
       "device_model\n",
       "F3               0.023284\n",
       "B1p              0.018723\n",
       "2.2              0.018723\n",
       "8,1              0.018243\n",
       "MAR LX1A         0.015122\n",
       "                   ...   \n",
       "Redmi 3S         0.000240\n",
       "Moto G (5)       0.000240\n",
       "LA6              0.000240\n",
       "BLADE A506       0.000240\n",
       "Redmi Note 5A    0.000240\n",
       "Name: proportion, Length: 495, dtype: float64"
      ]
     },
     "execution_count": 297,
     "metadata": {},
     "output_type": "execute_result"
    }
   ],
   "source": [
    "df.device_model.value_counts(1)"
   ]
  },
  {
   "cell_type": "code",
   "execution_count": 298,
   "id": "93a007f0-81d1-4881-ad67-d8ada65e22eb",
   "metadata": {},
   "outputs": [
    {
     "data": {
      "text/plain": [
       "b_state\n",
       "finished    4166\n",
       "Name: count, dtype: int64"
      ]
     },
     "execution_count": 298,
     "metadata": {},
     "output_type": "execute_result"
    }
   ],
   "source": [
    "df.b_state.value_counts()"
   ]
  },
  {
   "cell_type": "code",
   "execution_count": 299,
   "id": "3087764e-6803-48ea-ae2c-a37fa15f3e41",
   "metadata": {},
   "outputs": [
    {
     "data": {
      "text/plain": [
       "order_try_state\n",
       "finished    4166\n",
       "Name: count, dtype: int64"
      ]
     },
     "execution_count": 299,
     "metadata": {},
     "output_type": "execute_result"
    }
   ],
   "source": [
    "df.order_try_state.value_counts()"
   ]
  },
  {
   "cell_type": "code",
   "execution_count": 300,
   "id": "2b29de56-7a8d-4845-b7dc-e9104214d430",
   "metadata": {},
   "outputs": [
    {
     "data": {
      "text/plain": [
       "order_state\n",
       "finished    4165\n",
       "active         1\n",
       "Name: count, dtype: int64"
      ]
     },
     "execution_count": 300,
     "metadata": {},
     "output_type": "execute_result"
    }
   ],
   "source": [
    "df.order_state.value_counts()"
   ]
  },
  {
   "cell_type": "code",
   "execution_count": 301,
   "id": "dfb45f71-3ac8-4367-a069-e04709f1a532",
   "metadata": {},
   "outputs": [],
   "source": [
    "df.drop(columns=['device_name', 'b_state', 'order_state', 'order_try_state'], inplace=True)"
   ]
  },
  {
   "cell_type": "code",
   "execution_count": 302,
   "id": "df4c2ca0-d304-4ac8-87f7-12a3a312b1bf",
   "metadata": {},
   "outputs": [
    {
     "data": {
      "text/plain": [
       "entered_by\n",
       "client      3972\n",
       "driver       189\n",
       "reseller       5\n",
       "Name: count, dtype: int64"
      ]
     },
     "execution_count": 302,
     "metadata": {},
     "output_type": "execute_result"
    }
   ],
   "source": [
    "df.entered_by.value_counts()"
   ]
  },
  {
   "cell_type": "code",
   "execution_count": 304,
   "id": "a862911d-418b-4722-b5da-f4fb01c01fdd",
   "metadata": {},
   "outputs": [
    {
     "data": {
      "text/plain": [
       "change_reason_pricing\n",
       "driver_destination_changed    127\n",
       "client_destination_changed    123\n",
       "driver_waypoint_changed         5\n",
       "Name: count, dtype: int64"
      ]
     },
     "execution_count": 304,
     "metadata": {},
     "output_type": "execute_result"
    }
   ],
   "source": [
    "df.change_reason_pricing.value_counts()"
   ]
  },
  {
   "cell_type": "code",
   "execution_count": 306,
   "id": "c7a75bed-7eba-4b28-bbad-f289edf110e9",
   "metadata": {},
   "outputs": [
    {
     "data": {
      "text/plain": [
       "prediction_price_type\n",
       "upfront                        2967\n",
       "prediction                      998\n",
       "upfront_destination_changed     179\n",
       "upfront_waypoint_changed          3\n",
       "Name: count, dtype: int64"
      ]
     },
     "execution_count": 306,
     "metadata": {},
     "output_type": "execute_result"
    }
   ],
   "source": [
    "df.prediction_price_type.value_counts()"
   ]
  },
  {
   "cell_type": "code",
   "execution_count": 308,
   "id": "e0b06f84-4c0e-459a-a02a-501abff1a126",
   "metadata": {},
   "outputs": [
    {
     "data": {
      "text/plain": [
       "('2020-02-02 0:01:16', '2020-03-13 9:44:45')"
      ]
     },
     "execution_count": 308,
     "metadata": {},
     "output_type": "execute_result"
    }
   ],
   "source": [
    "df.calc_created.min(), df.calc_created.max()"
   ]
  },
  {
   "cell_type": "code",
   "execution_count": 309,
   "id": "a90809c5-0715-4c5c-9e88-fae5b151af67",
   "metadata": {},
   "outputs": [],
   "source": [
    "df['transaction_date'] = pd.to_datetime(df['calc_created'])\n",
    "df['transaction_weekday'] = df['transaction_date'].dt.weekday\n",
    "df['transaction_weekday'] = df['transaction_weekday'].apply(lambda x: calendar.day_name[x])\n",
    "df = df.drop(columns=['transaction_date'])"
   ]
  },
  {
   "cell_type": "code",
   "execution_count": 310,
   "id": "51871c4c-322b-47ce-bea8-e6dda6cc1176",
   "metadata": {},
   "outputs": [
    {
     "data": {
      "text/plain": [
       "0.10      1.136364\n",
       "0.25      4.412824\n",
       "0.50     16.306312\n",
       "0.75     33.955151\n",
       "0.90     63.336397\n",
       "0.95     94.664645\n",
       "0.99    254.348841\n",
       "Name: percentage_change_in_upfront_price, dtype: float64"
      ]
     },
     "execution_count": 310,
     "metadata": {},
     "output_type": "execute_result"
    }
   ],
   "source": [
    "df['percentage_change_in_upfront_price'] = 100 * (np.abs(df.upfront_price - df.metered_price) / df.upfront_price)\n",
    "df['percentage_change_in_upfront_price'].quantile([0.1,0.25,0.5,0.75,0.9,0.95,0.99])"
   ]
  },
  {
   "cell_type": "code",
   "execution_count": null,
   "id": "a897df3f-5f53-4662-9dc7-21ffec26f0ad",
   "metadata": {},
   "outputs": [],
   "source": []
  },
  {
   "cell_type": "code",
   "execution_count": null,
   "id": "3a5f5da7-a3e2-4c35-91bc-3b7d9e3c8e21",
   "metadata": {},
   "outputs": [],
   "source": []
  },
  {
   "cell_type": "code",
   "execution_count": 311,
   "id": "363c540e-f471-4bf4-90d9-4883bf2907d3",
   "metadata": {},
   "outputs": [
    {
     "data": {
      "text/plain": [
       "4166"
      ]
     },
     "execution_count": 311,
     "metadata": {},
     "output_type": "execute_result"
    }
   ],
   "source": [
    "# All Transactions\n",
    "len(df)"
   ]
  },
  {
   "cell_type": "code",
   "execution_count": 312,
   "id": "8105f38c-31de-4925-b207-35e4b803a851",
   "metadata": {},
   "outputs": [
    {
     "data": {
      "text/plain": [
       "(2967, 71.21939510321651)"
      ]
     },
     "execution_count": 312,
     "metadata": {},
     "output_type": "execute_result"
    }
   ],
   "source": [
    "# Upfront pricing used\n",
    "up_df = df[df.prediction_price_type == 'upfront']\n",
    "len(up_df), 100 * (len(up_df) / len(df))"
   ]
  },
  {
   "cell_type": "code",
   "execution_count": 313,
   "id": "b69c2406-8e7b-49b0-8436-8b456e16c2bc",
   "metadata": {},
   "outputs": [
    {
     "data": {
      "text/plain": [
       "(1346, 45.36568924839906, 32.30916946711474)"
      ]
     },
     "execution_count": 313,
     "metadata": {},
     "output_type": "execute_result"
    }
   ],
   "source": [
    "highchange_up_df = up_df[up_df['percentage_change_in_upfront_price'] > 20]\n",
    "len(highchange_up_df), 100 * (len(highchange_up_df) / len(up_df)), 100 * (len(highchange_up_df) / len(df))"
   ]
  },
  {
   "cell_type": "code",
   "execution_count": 314,
   "id": "aeab173f-6dc6-4eec-acec-fd3c6b772299",
   "metadata": {},
   "outputs": [
    {
     "data": {
      "text/plain": [
       "(1600, 53.92652510953826, 38.40614498319731)"
      ]
     },
     "execution_count": 314,
     "metadata": {},
     "output_type": "execute_result"
    }
   ],
   "source": [
    "lowchange_up_df = up_df[up_df['percentage_change_in_upfront_price'] <= 20]\n",
    "len(lowchange_up_df), 100 * (len(lowchange_up_df) / len(up_df)), 100 * (len(lowchange_up_df) / len(df))"
   ]
  },
  {
   "cell_type": "code",
   "execution_count": 315,
   "id": "5476158b-a08a-4b29-a913-25e272645755",
   "metadata": {},
   "outputs": [
    {
     "data": {
      "text/plain": [
       "(21, 0.7077856420626896, 0.5040806529044647)"
      ]
     },
     "execution_count": 315,
     "metadata": {},
     "output_type": "execute_result"
    }
   ],
   "source": [
    "missing_up_df = up_df[up_df.percentage_change_in_upfront_price.isna()]\n",
    "len(missing_up_df), 100 * (len(missing_up_df) / len(up_df)), 100 * (len(missing_up_df) / len(df))"
   ]
  },
  {
   "cell_type": "code",
   "execution_count": 316,
   "id": "e934ace2-5087-4fbf-9ef4-0b2bc1cd71f9",
   "metadata": {},
   "outputs": [
    {
     "data": {
      "text/plain": [
       "(1199, 28.780604896783483)"
      ]
     },
     "execution_count": 316,
     "metadata": {},
     "output_type": "execute_result"
    }
   ],
   "source": [
    "# Metered pricing used\n",
    "met_df = df[df.prediction_price_type != 'upfront']\n",
    "len(met_df), 100 * (len(met_df) / len(df))"
   ]
  },
  {
   "cell_type": "code",
   "execution_count": null,
   "id": "65c73624-975b-48a7-8ccc-b8f5ccd9530d",
   "metadata": {},
   "outputs": [],
   "source": []
  },
  {
   "cell_type": "code",
   "execution_count": 317,
   "id": "9efc19a4-6230-4fb5-bb1b-03b75a095fad",
   "metadata": {},
   "outputs": [
    {
     "data": {
      "text/plain": [
       "1346"
      ]
     },
     "execution_count": 317,
     "metadata": {},
     "output_type": "execute_result"
    }
   ],
   "source": [
    "len(highchange_up_df)"
   ]
  },
  {
   "cell_type": "code",
   "execution_count": 318,
   "id": "49fbcab5-b847-4329-8840-d521068c0a81",
   "metadata": {},
   "outputs": [
    {
     "data": {
      "text/plain": [
       "(36.63522012578616, 57.75933501683072, 25.0)"
      ]
     },
     "execution_count": 318,
     "metadata": {},
     "output_type": "execute_result"
    }
   ],
   "source": [
    "highchange_up_df.percentage_change_in_upfront_price.median(), highchange_up_df.percentage_change_in_upfront_price.mean(), highchange_up_df.percentage_change_in_upfront_price.mode()[0]\n"
   ]
  },
  {
   "cell_type": "code",
   "execution_count": 375,
   "id": "b20dc2a3-e0ff-4532-8920-9d52fa15c904",
   "metadata": {},
   "outputs": [
    {
     "data": {
      "text/plain": [
       "56.90515654166824"
      ]
     },
     "execution_count": 375,
     "metadata": {},
     "output_type": "execute_result"
    }
   ],
   "source": [
    "highchange_up_df[((highchange_up_df['distance'] == 0) | (highchange_up_df['duration'] == 0))].percentage_change_in_upfront_price.mean()"
   ]
  },
  {
   "cell_type": "code",
   "execution_count": 319,
   "id": "1ca9b7b7-3c4e-480e-ba9b-b5e226cfcd66",
   "metadata": {},
   "outputs": [
    {
     "data": {
      "text/plain": [
       "2.0059435364041605"
      ]
     },
     "execution_count": 319,
     "metadata": {},
     "output_type": "execute_result"
    }
   ],
   "source": [
    "100 * len(highchange_up_df[((highchange_up_df['distance'] == 0) | (highchange_up_df['duration'] == 0))]) / len(highchange_up_df)"
   ]
  },
  {
   "cell_type": "code",
   "execution_count": 343,
   "id": "74a975b3-f48b-4930-ba82-4a65eafd7bb8",
   "metadata": {},
   "outputs": [
    {
     "data": {
      "text/plain": [
       "0.10         8.900659\n",
       "0.25        20.747289\n",
       "0.50        32.628002\n",
       "0.75        55.116711\n",
       "0.90       333.817191\n",
       "0.95      2943.562006\n",
       "0.99    100011.642857\n",
       "Name: percentage_change_distance_pred, dtype: float64"
      ]
     },
     "execution_count": 343,
     "metadata": {},
     "output_type": "execute_result"
    }
   ],
   "source": [
    "highchange_up_df['percentage_change_distance_pred'] = 100 * (np.abs(highchange_up_df.distance - highchange_up_df.predicted_distance) / highchange_up_df.distance)\n",
    "highchange_up_df[highchange_up_df['percentage_change_distance_pred'] != np.inf]['percentage_change_distance_pred'].quantile([0.1,0.25,0.5,0.75,0.9,0.95,0.99])"
   ]
  },
  {
   "cell_type": "code",
   "execution_count": 346,
   "id": "2d5055eb-eeba-482c-94be-7bd2bb105033",
   "metadata": {},
   "outputs": [
    {
     "data": {
      "text/plain": [
       "0.10        9.044267\n",
       "0.25       22.234228\n",
       "0.50       37.524950\n",
       "0.75       60.236384\n",
       "0.90      150.476734\n",
       "0.95      667.140497\n",
       "0.99    10767.136364\n",
       "Name: percentage_change_duration_pred, dtype: float64"
      ]
     },
     "execution_count": 346,
     "metadata": {},
     "output_type": "execute_result"
    }
   ],
   "source": [
    "highchange_up_df['percentage_change_duration_pred'] = 100 * (np.abs(highchange_up_df.duration - highchange_up_df.predicted_duration) / highchange_up_df.duration)\n",
    "highchange_up_df[highchange_up_df['percentage_change_distance_pred'] != np.inf]['percentage_change_duration_pred'].quantile([0.1,0.25,0.5,0.75,0.9,0.95,0.99])"
   ]
  },
  {
   "cell_type": "code",
   "execution_count": null,
   "id": "271e96ce-58c2-4ecf-a4d3-0c9c7b7a0997",
   "metadata": {},
   "outputs": [],
   "source": []
  },
  {
   "cell_type": "code",
   "execution_count": 368,
   "id": "a3d679df-a785-4fc9-8490-d9c214861aa3",
   "metadata": {},
   "outputs": [
    {
     "data": {
      "text/html": [
       "<div>\n",
       "<style scoped>\n",
       "    .dataframe tbody tr th:only-of-type {\n",
       "        vertical-align: middle;\n",
       "    }\n",
       "\n",
       "    .dataframe tbody tr th {\n",
       "        vertical-align: top;\n",
       "    }\n",
       "\n",
       "    .dataframe thead th {\n",
       "        text-align: right;\n",
       "    }\n",
       "</style>\n",
       "<table border=\"1\" class=\"dataframe\">\n",
       "  <thead>\n",
       "    <tr style=\"text-align: right;\">\n",
       "      <th></th>\n",
       "      <th>distance_bin</th>\n",
       "      <th>order_id_new</th>\n",
       "      <th>upfront_price</th>\n",
       "      <th>metered_price</th>\n",
       "      <th>percentage_change_in_upfront_price</th>\n",
       "    </tr>\n",
       "  </thead>\n",
       "  <tbody>\n",
       "    <tr>\n",
       "      <th>9</th>\n",
       "      <td>9</td>\n",
       "      <td>135</td>\n",
       "      <td>15090.682222</td>\n",
       "      <td>35510.293111</td>\n",
       "      <td>152.772586</td>\n",
       "    </tr>\n",
       "    <tr>\n",
       "      <th>8</th>\n",
       "      <td>8</td>\n",
       "      <td>134</td>\n",
       "      <td>10045.756716</td>\n",
       "      <td>11558.648582</td>\n",
       "      <td>70.784470</td>\n",
       "    </tr>\n",
       "    <tr>\n",
       "      <th>0</th>\n",
       "      <td>0</td>\n",
       "      <td>135</td>\n",
       "      <td>6584.846667</td>\n",
       "      <td>2800.784667</td>\n",
       "      <td>56.498519</td>\n",
       "    </tr>\n",
       "    <tr>\n",
       "      <th>5</th>\n",
       "      <td>5</td>\n",
       "      <td>135</td>\n",
       "      <td>1896.668148</td>\n",
       "      <td>2264.623481</td>\n",
       "      <td>47.822466</td>\n",
       "    </tr>\n",
       "    <tr>\n",
       "      <th>7</th>\n",
       "      <td>7</td>\n",
       "      <td>135</td>\n",
       "      <td>10938.643704</td>\n",
       "      <td>5187.158296</td>\n",
       "      <td>46.956237</td>\n",
       "    </tr>\n",
       "    <tr>\n",
       "      <th>6</th>\n",
       "      <td>6</td>\n",
       "      <td>134</td>\n",
       "      <td>2091.042537</td>\n",
       "      <td>2331.864627</td>\n",
       "      <td>42.991431</td>\n",
       "    </tr>\n",
       "    <tr>\n",
       "      <th>4</th>\n",
       "      <td>4</td>\n",
       "      <td>134</td>\n",
       "      <td>2391.691791</td>\n",
       "      <td>2325.329776</td>\n",
       "      <td>40.850195</td>\n",
       "    </tr>\n",
       "    <tr>\n",
       "      <th>2</th>\n",
       "      <td>2</td>\n",
       "      <td>134</td>\n",
       "      <td>2619.098507</td>\n",
       "      <td>1223.146642</td>\n",
       "      <td>40.345564</td>\n",
       "    </tr>\n",
       "    <tr>\n",
       "      <th>1</th>\n",
       "      <td>1</td>\n",
       "      <td>135</td>\n",
       "      <td>2414.615556</td>\n",
       "      <td>975.479333</td>\n",
       "      <td>39.428561</td>\n",
       "    </tr>\n",
       "    <tr>\n",
       "      <th>3</th>\n",
       "      <td>3</td>\n",
       "      <td>135</td>\n",
       "      <td>959.435556</td>\n",
       "      <td>838.261333</td>\n",
       "      <td>38.876168</td>\n",
       "    </tr>\n",
       "  </tbody>\n",
       "</table>\n",
       "</div>"
      ],
      "text/plain": [
       "   distance_bin  order_id_new  upfront_price  metered_price  \\\n",
       "9             9           135   15090.682222   35510.293111   \n",
       "8             8           134   10045.756716   11558.648582   \n",
       "0             0           135    6584.846667    2800.784667   \n",
       "5             5           135    1896.668148    2264.623481   \n",
       "7             7           135   10938.643704    5187.158296   \n",
       "6             6           134    2091.042537    2331.864627   \n",
       "4             4           134    2391.691791    2325.329776   \n",
       "2             2           134    2619.098507    1223.146642   \n",
       "1             1           135    2414.615556     975.479333   \n",
       "3             3           135     959.435556     838.261333   \n",
       "\n",
       "   percentage_change_in_upfront_price  \n",
       "9                          152.772586  \n",
       "8                           70.784470  \n",
       "0                           56.498519  \n",
       "5                           47.822466  \n",
       "7                           46.956237  \n",
       "6                           42.991431  \n",
       "4                           40.850195  \n",
       "2                           40.345564  \n",
       "1                           39.428561  \n",
       "3                           38.876168  "
      ]
     },
     "execution_count": 368,
     "metadata": {},
     "output_type": "execute_result"
    }
   ],
   "source": [
    "highchange_up_df['distance_bin'] = pd.qcut(highchange_up_df.distance, 10, labels=False)\n",
    "highchange_up_df['duration_bin'] = pd.qcut(highchange_up_df.duration, 10, labels=False)\n",
    "distance_data = highchange_up_df.groupby(['distance_bin']).agg({'order_id_new': np.size, 'upfront_price': np.mean, 'metered_price': np.mean, 'percentage_change_in_upfront_price': np.mean}).reset_index()\n",
    "distance_data[distance_data.order_id_new > 10].sort_values('percentage_change_in_upfront_price', ascending=False)"
   ]
  },
  {
   "cell_type": "code",
   "execution_count": 385,
   "id": "4c0d01b8-1968-47de-a5ea-c01c18f41900",
   "metadata": {},
   "outputs": [
    {
     "data": {
      "text/plain": [
       "0.199851411589896"
      ]
     },
     "execution_count": 385,
     "metadata": {},
     "output_type": "execute_result"
    }
   ],
   "source": [
    "len(highchange_up_df[highchange_up_df.distance_bin > 7]) / len(highchange_up_df)"
   ]
  },
  {
   "cell_type": "code",
   "execution_count": 373,
   "id": "1b187573-53b1-4322-94d9-0675304a346e",
   "metadata": {},
   "outputs": [
    {
     "data": {
      "text/plain": [
       "111.93092195239467"
      ]
     },
     "execution_count": 373,
     "metadata": {},
     "output_type": "execute_result"
    }
   ],
   "source": [
    "highchange_up_df[highchange_up_df.distance_bin > 7].percentage_change_in_upfront_price.mean()"
   ]
  },
  {
   "cell_type": "code",
   "execution_count": 262,
   "id": "8c4e12ee-dfe4-4569-9bbd-48d86b4a2aa0",
   "metadata": {},
   "outputs": [
    {
     "data": {
      "image/png": "[encoded data removed]",
      "text/plain": [
       "<Figure size 1000x400 with 1 Axes>"
      ]
     },
     "metadata": {},
     "output_type": "display_data"
    }
   ],
   "source": [
    "data = distance_data.percentage_change_in_upfront_price.values.tolist()\n",
    "keys = distance_data.distance_bin.values.tolist()\n",
    "plt.bar(x=keys, height=data, color=palette_color)\n",
    "plt.title(\"distance bins vs percentage_change_in_upfront_price\")\n",
    "plt.show()"
   ]
  },
  {
   "cell_type": "code",
   "execution_count": 263,
   "id": "f3482b93-2259-4cbb-851e-79491d5d8ae5",
   "metadata": {},
   "outputs": [
    {
     "data": {
      "text/html": [
       "<div>\n",
       "<style scoped>\n",
       "    .dataframe tbody tr th:only-of-type {\n",
       "        vertical-align: middle;\n",
       "    }\n",
       "\n",
       "    .dataframe tbody tr th {\n",
       "        vertical-align: top;\n",
       "    }\n",
       "\n",
       "    .dataframe thead th {\n",
       "        text-align: right;\n",
       "    }\n",
       "</style>\n",
       "<table border=\"1\" class=\"dataframe\">\n",
       "  <thead>\n",
       "    <tr style=\"text-align: right;\">\n",
       "      <th></th>\n",
       "      <th>duration_bin</th>\n",
       "      <th>order_id_new</th>\n",
       "      <th>upfront_price</th>\n",
       "      <th>metered_price</th>\n",
       "      <th>percentage_change_in_upfront_price</th>\n",
       "    </tr>\n",
       "  </thead>\n",
       "  <tbody>\n",
       "    <tr>\n",
       "      <th>9</th>\n",
       "      <td>9</td>\n",
       "      <td>135</td>\n",
       "      <td>16751.158519</td>\n",
       "      <td>33650.105926</td>\n",
       "      <td>138.347154</td>\n",
       "    </tr>\n",
       "    <tr>\n",
       "      <th>8</th>\n",
       "      <td>8</td>\n",
       "      <td>134</td>\n",
       "      <td>10851.356716</td>\n",
       "      <td>13882.268731</td>\n",
       "      <td>85.301316</td>\n",
       "    </tr>\n",
       "    <tr>\n",
       "      <th>7</th>\n",
       "      <td>7</td>\n",
       "      <td>133</td>\n",
       "      <td>6351.524060</td>\n",
       "      <td>4758.081729</td>\n",
       "      <td>55.485726</td>\n",
       "    </tr>\n",
       "    <tr>\n",
       "      <th>0</th>\n",
       "      <td>0</td>\n",
       "      <td>135</td>\n",
       "      <td>5559.296296</td>\n",
       "      <td>2284.514667</td>\n",
       "      <td>53.984589</td>\n",
       "    </tr>\n",
       "    <tr>\n",
       "      <th>5</th>\n",
       "      <td>5</td>\n",
       "      <td>135</td>\n",
       "      <td>1778.857778</td>\n",
       "      <td>2431.347852</td>\n",
       "      <td>46.551526</td>\n",
       "    </tr>\n",
       "    <tr>\n",
       "      <th>4</th>\n",
       "      <td>4</td>\n",
       "      <td>134</td>\n",
       "      <td>7299.402239</td>\n",
       "      <td>2822.802836</td>\n",
       "      <td>43.790640</td>\n",
       "    </tr>\n",
       "    <tr>\n",
       "      <th>6</th>\n",
       "      <td>6</td>\n",
       "      <td>136</td>\n",
       "      <td>2111.920588</td>\n",
       "      <td>2794.369559</td>\n",
       "      <td>42.940622</td>\n",
       "    </tr>\n",
       "    <tr>\n",
       "      <th>1</th>\n",
       "      <td>1</td>\n",
       "      <td>136</td>\n",
       "      <td>1944.666912</td>\n",
       "      <td>921.456176</td>\n",
       "      <td>39.321596</td>\n",
       "    </tr>\n",
       "    <tr>\n",
       "      <th>3</th>\n",
       "      <td>3</td>\n",
       "      <td>134</td>\n",
       "      <td>1123.347761</td>\n",
       "      <td>989.429701</td>\n",
       "      <td>38.096855</td>\n",
       "    </tr>\n",
       "    <tr>\n",
       "      <th>2</th>\n",
       "      <td>2</td>\n",
       "      <td>134</td>\n",
       "      <td>1350.755970</td>\n",
       "      <td>529.996716</td>\n",
       "      <td>33.763133</td>\n",
       "    </tr>\n",
       "  </tbody>\n",
       "</table>\n",
       "</div>"
      ],
      "text/plain": [
       "   duration_bin  order_id_new  upfront_price  metered_price  \\\n",
       "9             9           135   16751.158519   33650.105926   \n",
       "8             8           134   10851.356716   13882.268731   \n",
       "7             7           133    6351.524060    4758.081729   \n",
       "0             0           135    5559.296296    2284.514667   \n",
       "5             5           135    1778.857778    2431.347852   \n",
       "4             4           134    7299.402239    2822.802836   \n",
       "6             6           136    2111.920588    2794.369559   \n",
       "1             1           136    1944.666912     921.456176   \n",
       "3             3           134    1123.347761     989.429701   \n",
       "2             2           134    1350.755970     529.996716   \n",
       "\n",
       "   percentage_change_in_upfront_price  \n",
       "9                          138.347154  \n",
       "8                           85.301316  \n",
       "7                           55.485726  \n",
       "0                           53.984589  \n",
       "5                           46.551526  \n",
       "4                           43.790640  \n",
       "6                           42.940622  \n",
       "1                           39.321596  \n",
       "3                           38.096855  \n",
       "2                           33.763133  "
      ]
     },
     "execution_count": 263,
     "metadata": {},
     "output_type": "execute_result"
    }
   ],
   "source": [
    "duration_data = highchange_up_df.groupby(['duration_bin']).agg({'order_id_new': np.size, 'upfront_price': np.mean, 'metered_price': np.mean, 'percentage_change_in_upfront_price': np.mean}).reset_index()\n",
    "duration_data[duration_data.order_id_new > 10].sort_values('percentage_change_in_upfront_price', ascending=False)"
   ]
  },
  {
   "cell_type": "code",
   "execution_count": 264,
   "id": "a3b18c13-a068-4d32-b381-1275c303d11e",
   "metadata": {},
   "outputs": [
    {
     "data": {
      "image/png": "[encoded data removed]",
      "text/plain": [
       "<Figure size 1000x400 with 1 Axes>"
      ]
     },
     "metadata": {},
     "output_type": "display_data"
    }
   ],
   "source": [
    "data = duration_data.percentage_change_in_upfront_price.values.tolist()\n",
    "keys = duration_data.duration_bin.values.tolist()\n",
    "plt.bar(x=keys, height=data, color=palette_color)\n",
    "plt.title(\"duration bins vs percentage_change_in_upfront_price\")\n",
    "plt.show()"
   ]
  },
  {
   "cell_type": "code",
   "execution_count": 370,
   "id": "2de58940-0bd6-4c36-8c40-ef9b87500eba",
   "metadata": {},
   "outputs": [
    {
     "data": {
      "text/plain": [
       "2009"
      ]
     },
     "execution_count": 370,
     "metadata": {},
     "output_type": "execute_result"
    }
   ],
   "source": [
    "len(highchange_up_df[highchange_up_df.duration_bin > 7]) / len(highchange_up_df)"
   ]
  },
  {
   "cell_type": "code",
   "execution_count": 374,
   "id": "f2a5e76a-0acf-47b3-9c72-bbee9a171473",
   "metadata": {},
   "outputs": [
    {
     "data": {
      "text/plain": [
       "111.92283297840973"
      ]
     },
     "execution_count": 374,
     "metadata": {},
     "output_type": "execute_result"
    }
   ],
   "source": [
    "highchange_up_df[highchange_up_df.duration_bin > 7].percentage_change_in_upfront_price.mean()"
   ]
  },
  {
   "cell_type": "code",
   "execution_count": 265,
   "id": "6cb1d7c8-1533-4b68-bc80-5cc47213f3c3",
   "metadata": {},
   "outputs": [
    {
     "data": {
      "text/html": [
       "<div>\n",
       "<style scoped>\n",
       "    .dataframe tbody tr th:only-of-type {\n",
       "        vertical-align: middle;\n",
       "    }\n",
       "\n",
       "    .dataframe tbody tr th {\n",
       "        vertical-align: top;\n",
       "    }\n",
       "\n",
       "    .dataframe thead th {\n",
       "        text-align: right;\n",
       "    }\n",
       "</style>\n",
       "<table border=\"1\" class=\"dataframe\">\n",
       "  <thead>\n",
       "    <tr style=\"text-align: right;\">\n",
       "      <th></th>\n",
       "      <th>transaction_weekday</th>\n",
       "      <th>metered_price</th>\n",
       "      <th>percentage_change_in_upfront_price</th>\n",
       "    </tr>\n",
       "  </thead>\n",
       "  <tbody>\n",
       "    <tr>\n",
       "      <th>1</th>\n",
       "      <td>Monday</td>\n",
       "      <td>1521612.37</td>\n",
       "      <td>57.148726</td>\n",
       "    </tr>\n",
       "    <tr>\n",
       "      <th>5</th>\n",
       "      <td>Tuesday</td>\n",
       "      <td>1017909.51</td>\n",
       "      <td>56.895221</td>\n",
       "    </tr>\n",
       "    <tr>\n",
       "      <th>6</th>\n",
       "      <td>Wednesday</td>\n",
       "      <td>620614.34</td>\n",
       "      <td>51.696888</td>\n",
       "    </tr>\n",
       "    <tr>\n",
       "      <th>4</th>\n",
       "      <td>Thursday</td>\n",
       "      <td>777779.30</td>\n",
       "      <td>46.319135</td>\n",
       "    </tr>\n",
       "    <tr>\n",
       "      <th>0</th>\n",
       "      <td>Friday</td>\n",
       "      <td>1518404.72</td>\n",
       "      <td>52.465502</td>\n",
       "    </tr>\n",
       "    <tr>\n",
       "      <th>2</th>\n",
       "      <td>Saturday</td>\n",
       "      <td>1334355.45</td>\n",
       "      <td>69.649958</td>\n",
       "    </tr>\n",
       "    <tr>\n",
       "      <th>3</th>\n",
       "      <td>Sunday</td>\n",
       "      <td>1968989.95</td>\n",
       "      <td>71.300661</td>\n",
       "    </tr>\n",
       "  </tbody>\n",
       "</table>\n",
       "</div>"
      ],
      "text/plain": [
       "  transaction_weekday  metered_price  percentage_change_in_upfront_price\n",
       "1              Monday     1521612.37                           57.148726\n",
       "5             Tuesday     1017909.51                           56.895221\n",
       "6           Wednesday      620614.34                           51.696888\n",
       "4            Thursday      777779.30                           46.319135\n",
       "0              Friday     1518404.72                           52.465502\n",
       "2            Saturday     1334355.45                           69.649958\n",
       "3              Sunday     1968989.95                           71.300661"
      ]
     },
     "execution_count": 265,
     "metadata": {},
     "output_type": "execute_result"
    }
   ],
   "source": [
    "weekday_data = highchange_up_df.groupby(['transaction_weekday']).agg({'metered_price': np.sum, 'percentage_change_in_upfront_price': np.mean}).reset_index()\n",
    "weekday_data['transaction_weekday'] = pd.Categorical(weekday_data['transaction_weekday'], categories=['Monday', 'Tuesday', 'Wednesday', 'Thursday', 'Friday', 'Saturday', 'Sunday'], ordered=True)\n",
    "weekday_data = weekday_data.sort_values('transaction_weekday')\n",
    "weekday_data"
   ]
  },
  {
   "cell_type": "code",
   "execution_count": 266,
   "id": "2152cccf-7294-4da5-897d-7f7790ad74de",
   "metadata": {},
   "outputs": [
    {
     "data": {
      "image/png": "[encoded data removed]",
      "text/plain": [
       "<Figure size 1000x400 with 1 Axes>"
      ]
     },
     "metadata": {},
     "output_type": "display_data"
    }
   ],
   "source": [
    "data = weekday_data.metered_price.values.tolist()\n",
    "keys = weekday_data.transaction_weekday.values.tolist()\n",
    "plt.pie(data, labels=keys, colors=palette_color, autopct='%.0f%%')\n",
    "plt.title(\"metered_price value split\")\n",
    "plt.show()"
   ]
  },
  {
   "cell_type": "code",
   "execution_count": 272,
   "id": "6bc9f9b2-1ee1-4583-bbc5-d5f7810695bc",
   "metadata": {},
   "outputs": [
    {
     "data": {
      "image/png": "[encoded data removed]",
      "text/plain": [
       "<Figure size 1000x400 with 1 Axes>"
      ]
     },
     "metadata": {},
     "output_type": "display_data"
    }
   ],
   "source": [
    "data = weekday_data.percentage_change_in_upfront_price.values.tolist()\n",
    "keys = weekday_data.transaction_weekday.values.tolist()\n",
    "plt.bar(height=data, x=keys, color=palette_color)\n",
    "plt.title(\"percentage_change_in_upfront_price mean values\")\n",
    "plt.xticks(rotation=25)\n",
    "plt.show()"
   ]
  },
  {
   "cell_type": "code",
   "execution_count": 383,
   "id": "0f38a8ab-fa59-4611-a751-13b3a6611dfd",
   "metadata": {
    "scrolled": true
   },
   "outputs": [
    {
     "data": {
      "text/plain": [
       "0.274888558692422"
      ]
     },
     "execution_count": 383,
     "metadata": {},
     "output_type": "execute_result"
    }
   ],
   "source": [
    "len(highchange_up_df[highchange_up_df.transaction_weekday.isin(['Saturday', 'Sunday'])]) / len(highchange_up_df)"
   ]
  },
  {
   "cell_type": "code",
   "execution_count": 376,
   "id": "1c62a4c9-90e9-4277-a44f-25f2fdad4b76",
   "metadata": {},
   "outputs": [
    {
     "data": {
      "text/plain": [
       "70.47530941451708"
      ]
     },
     "execution_count": 376,
     "metadata": {},
     "output_type": "execute_result"
    }
   ],
   "source": [
    "weekday_data[weekday_data.transaction_weekday.isin(['Saturday', 'Sunday'])].percentage_change_in_upfront_price.mean()"
   ]
  },
  {
   "cell_type": "code",
   "execution_count": 389,
   "id": "cf2e6987-ec01-40fa-ac87-cb42fe0f7b7d",
   "metadata": {
    "scrolled": true
   },
   "outputs": [
    {
     "data": {
      "text/html": [
       "<div>\n",
       "<style scoped>\n",
       "    .dataframe tbody tr th:only-of-type {\n",
       "        vertical-align: middle;\n",
       "    }\n",
       "\n",
       "    .dataframe tbody tr th {\n",
       "        vertical-align: top;\n",
       "    }\n",
       "\n",
       "    .dataframe thead th {\n",
       "        text-align: right;\n",
       "    }\n",
       "</style>\n",
       "<table border=\"1\" class=\"dataframe\">\n",
       "  <thead>\n",
       "    <tr style=\"text-align: right;\">\n",
       "      <th></th>\n",
       "      <th>device_manufacturer</th>\n",
       "      <th>order_id_new</th>\n",
       "      <th>upfront_price</th>\n",
       "      <th>metered_price</th>\n",
       "      <th>percentage_change_in_upfront_price</th>\n",
       "    </tr>\n",
       "  </thead>\n",
       "  <tbody>\n",
       "    <tr>\n",
       "      <th>29</th>\n",
       "      <td>TECNO</td>\n",
       "      <td>173</td>\n",
       "      <td>16430.635838</td>\n",
       "      <td>21802.813584</td>\n",
       "      <td>94.942012</td>\n",
       "    </tr>\n",
       "    <tr>\n",
       "      <th>15</th>\n",
       "      <td>ITEL</td>\n",
       "      <td>25</td>\n",
       "      <td>12320.000000</td>\n",
       "      <td>14710.950000</td>\n",
       "      <td>88.342027</td>\n",
       "    </tr>\n",
       "    <tr>\n",
       "      <th>21</th>\n",
       "      <td>Nokia</td>\n",
       "      <td>43</td>\n",
       "      <td>6805.251163</td>\n",
       "      <td>13048.983488</td>\n",
       "      <td>73.209046</td>\n",
       "    </tr>\n",
       "    <tr>\n",
       "      <th>16</th>\n",
       "      <td>Infinix</td>\n",
       "      <td>50</td>\n",
       "      <td>14890.000000</td>\n",
       "      <td>18942.610000</td>\n",
       "      <td>64.654962</td>\n",
       "    </tr>\n",
       "    <tr>\n",
       "      <th>27</th>\n",
       "      <td>Sony</td>\n",
       "      <td>12</td>\n",
       "      <td>5.650000</td>\n",
       "      <td>7.745000</td>\n",
       "      <td>54.664394</td>\n",
       "    </tr>\n",
       "    <tr>\n",
       "      <th>33</th>\n",
       "      <td>Xiaomi</td>\n",
       "      <td>85</td>\n",
       "      <td>640.680000</td>\n",
       "      <td>1564.589059</td>\n",
       "      <td>54.253908</td>\n",
       "    </tr>\n",
       "    <tr>\n",
       "      <th>19</th>\n",
       "      <td>LGE</td>\n",
       "      <td>12</td>\n",
       "      <td>4796.800000</td>\n",
       "      <td>5951.677500</td>\n",
       "      <td>53.622818</td>\n",
       "    </tr>\n",
       "    <tr>\n",
       "      <th>35</th>\n",
       "      <td>iPhone</td>\n",
       "      <td>139</td>\n",
       "      <td>1207.041727</td>\n",
       "      <td>1976.069928</td>\n",
       "      <td>52.540372</td>\n",
       "    </tr>\n",
       "    <tr>\n",
       "      <th>26</th>\n",
       "      <td>Samsung</td>\n",
       "      <td>492</td>\n",
       "      <td>5253.941260</td>\n",
       "      <td>4019.362459</td>\n",
       "      <td>48.089519</td>\n",
       "    </tr>\n",
       "    <tr>\n",
       "      <th>12</th>\n",
       "      <td>HUAWEI</td>\n",
       "      <td>253</td>\n",
       "      <td>545.584980</td>\n",
       "      <td>1232.654980</td>\n",
       "      <td>47.176267</td>\n",
       "    </tr>\n",
       "    <tr>\n",
       "      <th>4</th>\n",
       "      <td>BullittGroupLimited</td>\n",
       "      <td>13</td>\n",
       "      <td>5.476923</td>\n",
       "      <td>7.487692</td>\n",
       "      <td>45.998845</td>\n",
       "    </tr>\n",
       "  </tbody>\n",
       "</table>\n",
       "</div>"
      ],
      "text/plain": [
       "    device_manufacturer  order_id_new  upfront_price  metered_price  \\\n",
       "29                TECNO           173   16430.635838   21802.813584   \n",
       "15                 ITEL            25   12320.000000   14710.950000   \n",
       "21                Nokia            43    6805.251163   13048.983488   \n",
       "16              Infinix            50   14890.000000   18942.610000   \n",
       "27                 Sony            12       5.650000       7.745000   \n",
       "33               Xiaomi            85     640.680000    1564.589059   \n",
       "19                  LGE            12    4796.800000    5951.677500   \n",
       "35               iPhone           139    1207.041727    1976.069928   \n",
       "26              Samsung           492    5253.941260    4019.362459   \n",
       "12               HUAWEI           253     545.584980    1232.654980   \n",
       "4   BullittGroupLimited            13       5.476923       7.487692   \n",
       "\n",
       "    percentage_change_in_upfront_price  \n",
       "29                           94.942012  \n",
       "15                           88.342027  \n",
       "21                           73.209046  \n",
       "16                           64.654962  \n",
       "27                           54.664394  \n",
       "33                           54.253908  \n",
       "19                           53.622818  \n",
       "35                           52.540372  \n",
       "26                           48.089519  \n",
       "12                           47.176267  \n",
       "4                            45.998845  "
      ]
     },
     "execution_count": 389,
     "metadata": {},
     "output_type": "execute_result"
    }
   ],
   "source": [
    "device_data = highchange_up_df.groupby(['device_manufacturer']).agg({'order_id_new': np.size, 'upfront_price': np.mean, 'metered_price': np.mean, 'percentage_change_in_upfront_price': np.mean}).reset_index()\n",
    "device_data = device_data[device_data.order_id_new > 10].sort_values('percentage_change_in_upfront_price', ascending=False)\n",
    "device_data"
   ]
  },
  {
   "cell_type": "code",
   "execution_count": 390,
   "id": "2368c56c-9969-46c0-9ae8-8d0928b3d813",
   "metadata": {},
   "outputs": [
    {
     "data": {
      "image/png": "[encoded data removed]",
      "text/plain": [
       "<Figure size 1000x400 with 1 Axes>"
      ]
     },
     "metadata": {},
     "output_type": "display_data"
    }
   ],
   "source": [
    "data = device_data.percentage_change_in_upfront_price.values.tolist()\n",
    "keys = device_data.device_manufacturer.values.tolist()\n",
    "plt.bar(height=data, x=keys, color=palette_color)\n",
    "plt.title(\"percentage_change_in_upfront_price mean values\")\n",
    "plt.xticks(rotation=75)\n",
    "plt.rcParams[\"figure.figsize\"] = (10,4)\n",
    "plt.show()"
   ]
  },
  {
   "cell_type": "code",
   "execution_count": 391,
   "id": "b9da7042-9fa7-45a7-9691-54ff615eec5b",
   "metadata": {},
   "outputs": [
    {
     "data": {
      "text/plain": [
       "0.2161961367013373"
      ]
     },
     "execution_count": 391,
     "metadata": {},
     "output_type": "execute_result"
    }
   ],
   "source": [
    "len(highchange_up_df[highchange_up_df.device_manufacturer.isin(['ITEL', 'TECNO', 'Nokia', 'Infinix'])]) / len(highchange_up_df)"
   ]
  },
  {
   "cell_type": "code",
   "execution_count": 392,
   "id": "c386d7c9-5b89-411d-ad7e-2cfcd9045d9b",
   "metadata": {},
   "outputs": [
    {
     "data": {
      "text/plain": [
       "80.28701182089921"
      ]
     },
     "execution_count": 392,
     "metadata": {},
     "output_type": "execute_result"
    }
   ],
   "source": [
    "device_data[device_data.device_manufacturer.isin(['ITEL', 'TECNO', 'Nokia', 'Infinix'])].percentage_change_in_upfront_price.mean()"
   ]
  },
  {
   "cell_type": "code",
   "execution_count": null,
   "id": "e447d86b-1d65-49ef-ba1c-df3394312032",
   "metadata": {},
   "outputs": [],
   "source": []
  },
  {
   "cell_type": "code",
   "execution_count": 393,
   "id": "bf822376-eb49-442a-8b58-d95fbce1c12f",
   "metadata": {},
   "outputs": [
    {
     "data": {
      "text/html": [
       "<div>\n",
       "<style scoped>\n",
       "    .dataframe tbody tr th:only-of-type {\n",
       "        vertical-align: middle;\n",
       "    }\n",
       "\n",
       "    .dataframe tbody tr th {\n",
       "        vertical-align: top;\n",
       "    }\n",
       "\n",
       "    .dataframe thead th {\n",
       "        text-align: right;\n",
       "    }\n",
       "</style>\n",
       "<table border=\"1\" class=\"dataframe\">\n",
       "  <thead>\n",
       "    <tr style=\"text-align: right;\">\n",
       "      <th></th>\n",
       "      <th>device_model</th>\n",
       "      <th>order_id_new</th>\n",
       "      <th>upfront_price</th>\n",
       "      <th>metered_price</th>\n",
       "      <th>percentage_change_in_upfront_price</th>\n",
       "    </tr>\n",
       "  </thead>\n",
       "  <tbody>\n",
       "    <tr>\n",
       "      <th>41</th>\n",
       "      <td>B1p</td>\n",
       "      <td>35</td>\n",
       "      <td>14542.857143</td>\n",
       "      <td>29053.392286</td>\n",
       "      <td>162.815162</td>\n",
       "    </tr>\n",
       "    <tr>\n",
       "      <th>200</th>\n",
       "      <td>SM A520F</td>\n",
       "      <td>26</td>\n",
       "      <td>621.000000</td>\n",
       "      <td>386.977308</td>\n",
       "      <td>47.098900</td>\n",
       "    </tr>\n",
       "  </tbody>\n",
       "</table>\n",
       "</div>"
      ],
      "text/plain": [
       "    device_model  order_id_new  upfront_price  metered_price  \\\n",
       "41           B1p            35   14542.857143   29053.392286   \n",
       "200     SM A520F            26     621.000000     386.977308   \n",
       "\n",
       "     percentage_change_in_upfront_price  \n",
       "41                           162.815162  \n",
       "200                           47.098900  "
      ]
     },
     "execution_count": 393,
     "metadata": {},
     "output_type": "execute_result"
    }
   ],
   "source": [
    "device_data = highchange_up_df.groupby(['device_model']).agg({'order_id_new': np.size, 'upfront_price': np.mean, 'metered_price': np.mean, 'percentage_change_in_upfront_price': np.mean}).reset_index()\n",
    "device_data = device_data[device_data.order_id_new > 20].sort_values('percentage_change_in_upfront_price', ascending=False)\n",
    "device_data.head(2)"
   ]
  },
  {
   "cell_type": "code",
   "execution_count": 394,
   "id": "aefc76bd-3204-46cd-82a6-154bf7dbaaf7",
   "metadata": {},
   "outputs": [
    {
     "data": {
      "text/plain": [
       "0.045319465081723624"
      ]
     },
     "execution_count": 394,
     "metadata": {},
     "output_type": "execute_result"
    }
   ],
   "source": [
    "len(highchange_up_df[highchange_up_df.device_model.isin(['B1p', 'SM A520F'])]) / len(highchange_up_df)"
   ]
  },
  {
   "cell_type": "code",
   "execution_count": 395,
   "id": "526894c0-0067-403b-8f04-c64184bf0293",
   "metadata": {},
   "outputs": [
    {
     "data": {
      "text/plain": [
       "104.95703075264055"
      ]
     },
     "execution_count": 395,
     "metadata": {},
     "output_type": "execute_result"
    }
   ],
   "source": [
    "device_data[device_data.device_model.isin(['B1p', 'SM A520F'])].percentage_change_in_upfront_price.mean()"
   ]
  },
  {
   "cell_type": "code",
   "execution_count": 357,
   "id": "572e0546-16b4-49c1-b3c6-ee38be3db78d",
   "metadata": {},
   "outputs": [
    {
     "data": {
      "text/html": [
       "<div>\n",
       "<style scoped>\n",
       "    .dataframe tbody tr th:only-of-type {\n",
       "        vertical-align: middle;\n",
       "    }\n",
       "\n",
       "    .dataframe tbody tr th {\n",
       "        vertical-align: top;\n",
       "    }\n",
       "\n",
       "    .dataframe thead th {\n",
       "        text-align: right;\n",
       "    }\n",
       "</style>\n",
       "<table border=\"1\" class=\"dataframe\">\n",
       "  <thead>\n",
       "    <tr style=\"text-align: right;\">\n",
       "      <th></th>\n",
       "      <th>ticket_id_new</th>\n",
       "      <th>order_id_new</th>\n",
       "      <th>upfront_price</th>\n",
       "      <th>metered_price</th>\n",
       "      <th>percentage_change_in_upfront_price</th>\n",
       "    </tr>\n",
       "  </thead>\n",
       "  <tbody>\n",
       "    <tr>\n",
       "      <th>2</th>\n",
       "      <td>3</td>\n",
       "      <td>28</td>\n",
       "      <td>11287.585714</td>\n",
       "      <td>15207.081071</td>\n",
       "      <td>107.079185</td>\n",
       "    </tr>\n",
       "    <tr>\n",
       "      <th>1</th>\n",
       "      <td>2</td>\n",
       "      <td>137</td>\n",
       "      <td>6445.081022</td>\n",
       "      <td>9487.447518</td>\n",
       "      <td>64.287202</td>\n",
       "    </tr>\n",
       "  </tbody>\n",
       "</table>\n",
       "</div>"
      ],
      "text/plain": [
       "   ticket_id_new  order_id_new  upfront_price  metered_price  \\\n",
       "2              3            28   11287.585714   15207.081071   \n",
       "1              2           137    6445.081022    9487.447518   \n",
       "\n",
       "   percentage_change_in_upfront_price  \n",
       "2                          107.079185  \n",
       "1                           64.287202  "
      ]
     },
     "execution_count": 357,
     "metadata": {},
     "output_type": "execute_result"
    }
   ],
   "source": [
    "ticket_id_new = highchange_up_df.groupby(['ticket_id_new']).agg({'order_id_new': np.size, 'upfront_price': np.mean, 'metered_price': np.mean, 'percentage_change_in_upfront_price': np.mean}).reset_index()\n",
    "ticket_id_new = ticket_id_new[ticket_id_new.order_id_new > 20].sort_values('percentage_change_in_upfront_price', ascending=False)\n",
    "ticket_id_new.head(2)"
   ]
  },
  {
   "cell_type": "code",
   "execution_count": 350,
   "id": "9a98c21f-523a-4490-acc9-f30385c3a7e9",
   "metadata": {},
   "outputs": [
    {
     "data": {
      "text/html": [
       "<div>\n",
       "<style scoped>\n",
       "    .dataframe tbody tr th:only-of-type {\n",
       "        vertical-align: middle;\n",
       "    }\n",
       "\n",
       "    .dataframe tbody tr th {\n",
       "        vertical-align: top;\n",
       "    }\n",
       "\n",
       "    .dataframe thead th {\n",
       "        text-align: right;\n",
       "    }\n",
       "</style>\n",
       "<table border=\"1\" class=\"dataframe\">\n",
       "  <thead>\n",
       "    <tr style=\"text-align: right;\">\n",
       "      <th></th>\n",
       "      <th>eu_indicator</th>\n",
       "      <th>order_id_new</th>\n",
       "      <th>upfront_price</th>\n",
       "      <th>metered_price</th>\n",
       "      <th>percentage_change_in_upfront_price</th>\n",
       "    </tr>\n",
       "  </thead>\n",
       "  <tbody>\n",
       "    <tr>\n",
       "      <th>0</th>\n",
       "      <td>0</td>\n",
       "      <td>381</td>\n",
       "      <td>19439.632546</td>\n",
       "      <td>22972.559869</td>\n",
       "      <td>91.523013</td>\n",
       "    </tr>\n",
       "    <tr>\n",
       "      <th>1</th>\n",
       "      <td>1</td>\n",
       "      <td>965</td>\n",
       "      <td>5.945492</td>\n",
       "      <td>7.378580</td>\n",
       "      <td>44.428805</td>\n",
       "    </tr>\n",
       "  </tbody>\n",
       "</table>\n",
       "</div>"
      ],
      "text/plain": [
       "   eu_indicator  order_id_new  upfront_price  metered_price  \\\n",
       "0             0           381   19439.632546   22972.559869   \n",
       "1             1           965       5.945492       7.378580   \n",
       "\n",
       "   percentage_change_in_upfront_price  \n",
       "0                           91.523013  \n",
       "1                           44.428805  "
      ]
     },
     "execution_count": 350,
     "metadata": {},
     "output_type": "execute_result"
    }
   ],
   "source": [
    "eu_indicator = highchange_up_df.groupby(['eu_indicator']).agg({'order_id_new': np.size, 'upfront_price': np.mean, 'metered_price': np.mean, 'percentage_change_in_upfront_price': np.mean}).reset_index()\n",
    "eu_indicator = eu_indicator[eu_indicator.order_id_new > 20].sort_values('percentage_change_in_upfront_price', ascending=False)\n",
    "eu_indicator.head(2)"
   ]
  },
  {
   "cell_type": "code",
   "execution_count": 396,
   "id": "eb8d6b43-d5e8-44f5-9832-1830eb903697",
   "metadata": {},
   "outputs": [
    {
     "data": {
      "text/plain": [
       "0.28306092124814264"
      ]
     },
     "execution_count": 396,
     "metadata": {},
     "output_type": "execute_result"
    }
   ],
   "source": [
    "len(highchange_up_df[highchange_up_df.eu_indicator.isin([0])]) / len(highchange_up_df)"
   ]
  },
  {
   "cell_type": "code",
   "execution_count": 398,
   "id": "af17b305-f1d6-433f-bd95-9363ed5335cc",
   "metadata": {},
   "outputs": [
    {
     "data": {
      "text/plain": [
       "91.52301267555555"
      ]
     },
     "execution_count": 398,
     "metadata": {},
     "output_type": "execute_result"
    }
   ],
   "source": [
    "eu_indicator[eu_indicator.eu_indicator.isin([0])].percentage_change_in_upfront_price.mean()"
   ]
  },
  {
   "cell_type": "code",
   "execution_count": null,
   "id": "ffb8d591-b34c-4409-a6bb-7cbef4be1324",
   "metadata": {},
   "outputs": [],
   "source": []
  },
  {
   "cell_type": "code",
   "execution_count": 353,
   "id": "1ba11fca-4e16-4beb-8b0f-6d0beef8ee41",
   "metadata": {},
   "outputs": [
    {
     "data": {
      "text/html": [
       "<div>\n",
       "<style scoped>\n",
       "    .dataframe tbody tr th:only-of-type {\n",
       "        vertical-align: middle;\n",
       "    }\n",
       "\n",
       "    .dataframe tbody tr th {\n",
       "        vertical-align: top;\n",
       "    }\n",
       "\n",
       "    .dataframe thead th {\n",
       "        text-align: right;\n",
       "    }\n",
       "</style>\n",
       "<table border=\"1\" class=\"dataframe\">\n",
       "  <thead>\n",
       "    <tr style=\"text-align: right;\">\n",
       "      <th></th>\n",
       "      <th>gps_confidence</th>\n",
       "      <th>order_id_new</th>\n",
       "      <th>upfront_price</th>\n",
       "      <th>metered_price</th>\n",
       "      <th>percentage_change_in_upfront_price</th>\n",
       "    </tr>\n",
       "  </thead>\n",
       "  <tbody>\n",
       "    <tr>\n",
       "      <th>0</th>\n",
       "      <td>0</td>\n",
       "      <td>206</td>\n",
       "      <td>16632.111165</td>\n",
       "      <td>26951.245291</td>\n",
       "      <td>126.853718</td>\n",
       "    </tr>\n",
       "    <tr>\n",
       "      <th>1</th>\n",
       "      <td>1</td>\n",
       "      <td>1140</td>\n",
       "      <td>3496.510965</td>\n",
       "      <td>2813.779921</td>\n",
       "      <td>45.273859</td>\n",
       "    </tr>\n",
       "  </tbody>\n",
       "</table>\n",
       "</div>"
      ],
      "text/plain": [
       "   gps_confidence  order_id_new  upfront_price  metered_price  \\\n",
       "0               0           206   16632.111165   26951.245291   \n",
       "1               1          1140    3496.510965    2813.779921   \n",
       "\n",
       "   percentage_change_in_upfront_price  \n",
       "0                          126.853718  \n",
       "1                           45.273859  "
      ]
     },
     "execution_count": 353,
     "metadata": {},
     "output_type": "execute_result"
    }
   ],
   "source": [
    "gps_confidence = highchange_up_df.groupby(['gps_confidence']).agg({'order_id_new': np.size, 'upfront_price': np.mean, 'metered_price': np.mean, 'percentage_change_in_upfront_price': np.mean}).reset_index()\n",
    "gps_confidence = gps_confidence[gps_confidence.order_id_new > 20].sort_values('percentage_change_in_upfront_price', ascending=False)\n",
    "gps_confidence.head(2)"
   ]
  },
  {
   "cell_type": "code",
   "execution_count": 399,
   "id": "9aa99ea4-5540-4599-838d-8dc886e0cbf6",
   "metadata": {},
   "outputs": [
    {
     "data": {
      "text/plain": [
       "0.15304606240713226"
      ]
     },
     "execution_count": 399,
     "metadata": {},
     "output_type": "execute_result"
    }
   ],
   "source": [
    "len(highchange_up_df[highchange_up_df.gps_confidence.isin([0])]) / len(highchange_up_df)"
   ]
  },
  {
   "cell_type": "code",
   "execution_count": 400,
   "id": "0bccd484-d2db-424a-8f97-ef5c8e04633b",
   "metadata": {},
   "outputs": [
    {
     "data": {
      "text/plain": [
       "126.85371788871053"
      ]
     },
     "execution_count": 400,
     "metadata": {},
     "output_type": "execute_result"
    }
   ],
   "source": [
    "gps_confidence[gps_confidence.gps_confidence.isin([0])].percentage_change_in_upfront_price.mean()"
   ]
  },
  {
   "cell_type": "code",
   "execution_count": null,
   "id": "b52c39b9-4810-461a-ad3e-204421420bda",
   "metadata": {},
   "outputs": [],
   "source": []
  },
  {
   "cell_type": "code",
   "execution_count": 352,
   "id": "8234e6ae-7cc9-4c90-b3ed-f7acf9a1244a",
   "metadata": {},
   "outputs": [
    {
     "data": {
      "text/html": [
       "<div>\n",
       "<style scoped>\n",
       "    .dataframe tbody tr th:only-of-type {\n",
       "        vertical-align: middle;\n",
       "    }\n",
       "\n",
       "    .dataframe tbody tr th {\n",
       "        vertical-align: top;\n",
       "    }\n",
       "\n",
       "    .dataframe thead th {\n",
       "        text-align: right;\n",
       "    }\n",
       "</style>\n",
       "<table border=\"1\" class=\"dataframe\">\n",
       "  <thead>\n",
       "    <tr style=\"text-align: right;\">\n",
       "      <th></th>\n",
       "      <th>overpaid_ride_ticket</th>\n",
       "      <th>order_id_new</th>\n",
       "      <th>upfront_price</th>\n",
       "      <th>metered_price</th>\n",
       "      <th>percentage_change_in_upfront_price</th>\n",
       "    </tr>\n",
       "  </thead>\n",
       "  <tbody>\n",
       "    <tr>\n",
       "      <th>1</th>\n",
       "      <td>1</td>\n",
       "      <td>65</td>\n",
       "      <td>15623.833846</td>\n",
       "      <td>23873.768000</td>\n",
       "      <td>110.037541</td>\n",
       "    </tr>\n",
       "    <tr>\n",
       "      <th>0</th>\n",
       "      <td>0</td>\n",
       "      <td>1278</td>\n",
       "      <td>4976.281847</td>\n",
       "      <td>5494.505931</td>\n",
       "      <td>54.553655</td>\n",
       "    </tr>\n",
       "  </tbody>\n",
       "</table>\n",
       "</div>"
      ],
      "text/plain": [
       "   overpaid_ride_ticket  order_id_new  upfront_price  metered_price  \\\n",
       "1                     1            65   15623.833846   23873.768000   \n",
       "0                     0          1278    4976.281847    5494.505931   \n",
       "\n",
       "   percentage_change_in_upfront_price  \n",
       "1                          110.037541  \n",
       "0                           54.553655  "
      ]
     },
     "execution_count": 352,
     "metadata": {},
     "output_type": "execute_result"
    }
   ],
   "source": [
    "overpaid_ride_ticket = highchange_up_df.groupby(['overpaid_ride_ticket']).agg({'order_id_new': np.size, 'upfront_price': np.mean, 'metered_price': np.mean, 'percentage_change_in_upfront_price': np.mean}).reset_index()\n",
    "overpaid_ride_ticket = overpaid_ride_ticket[overpaid_ride_ticket.order_id_new > 20].sort_values('percentage_change_in_upfront_price', ascending=False)\n",
    "overpaid_ride_ticket.head(2)"
   ]
  },
  {
   "cell_type": "code",
   "execution_count": 401,
   "id": "46761d5c-ccda-48c0-8444-acc9aea17349",
   "metadata": {},
   "outputs": [
    {
     "data": {
      "text/plain": [
       "0.048291233283803865"
      ]
     },
     "execution_count": 401,
     "metadata": {},
     "output_type": "execute_result"
    }
   ],
   "source": [
    "len(highchange_up_df[highchange_up_df.overpaid_ride_ticket.isin([1])]) / len(highchange_up_df)"
   ]
  },
  {
   "cell_type": "code",
   "execution_count": 402,
   "id": "b52ae957-927e-4ccf-a1f3-97568984f7f1",
   "metadata": {},
   "outputs": [
    {
     "data": {
      "text/plain": [
       "110.03754070463287"
      ]
     },
     "execution_count": 402,
     "metadata": {},
     "output_type": "execute_result"
    }
   ],
   "source": [
    "overpaid_ride_ticket[overpaid_ride_ticket.overpaid_ride_ticket.isin([1])].percentage_change_in_upfront_price.mean()"
   ]
  },
  {
   "cell_type": "code",
   "execution_count": null,
   "id": "67c79a2c-a99e-4621-b4ea-9ab8051acd19",
   "metadata": {},
   "outputs": [],
   "source": []
  },
  {
   "cell_type": "code",
   "execution_count": 354,
   "id": "9c4e8822-6d02-4d4c-9561-93e34f1890d8",
   "metadata": {},
   "outputs": [
    {
     "data": {
      "text/html": [
       "<div>\n",
       "<style scoped>\n",
       "    .dataframe tbody tr th:only-of-type {\n",
       "        vertical-align: middle;\n",
       "    }\n",
       "\n",
       "    .dataframe tbody tr th {\n",
       "        vertical-align: top;\n",
       "    }\n",
       "\n",
       "    .dataframe thead th {\n",
       "        text-align: right;\n",
       "    }\n",
       "</style>\n",
       "<table border=\"1\" class=\"dataframe\">\n",
       "  <thead>\n",
       "    <tr style=\"text-align: right;\">\n",
       "      <th></th>\n",
       "      <th>dest_change_number</th>\n",
       "      <th>order_id_new</th>\n",
       "      <th>upfront_price</th>\n",
       "      <th>metered_price</th>\n",
       "      <th>percentage_change_in_upfront_price</th>\n",
       "    </tr>\n",
       "  </thead>\n",
       "  <tbody>\n",
       "    <tr>\n",
       "      <th>2</th>\n",
       "      <td>3</td>\n",
       "      <td>39</td>\n",
       "      <td>6300.766667</td>\n",
       "      <td>9280.998205</td>\n",
       "      <td>83.953812</td>\n",
       "    </tr>\n",
       "    <tr>\n",
       "      <th>1</th>\n",
       "      <td>2</td>\n",
       "      <td>23</td>\n",
       "      <td>48197.295652</td>\n",
       "      <td>21647.422174</td>\n",
       "      <td>67.475504</td>\n",
       "    </tr>\n",
       "  </tbody>\n",
       "</table>\n",
       "</div>"
      ],
      "text/plain": [
       "   dest_change_number  order_id_new  upfront_price  metered_price  \\\n",
       "2                   3            39    6300.766667    9280.998205   \n",
       "1                   2            23   48197.295652   21647.422174   \n",
       "\n",
       "   percentage_change_in_upfront_price  \n",
       "2                           83.953812  \n",
       "1                           67.475504  "
      ]
     },
     "execution_count": 354,
     "metadata": {},
     "output_type": "execute_result"
    }
   ],
   "source": [
    "dest_change_number = highchange_up_df.groupby(['dest_change_number']).agg({'order_id_new': np.size, 'upfront_price': np.mean, 'metered_price': np.mean, 'percentage_change_in_upfront_price': np.mean}).reset_index()\n",
    "dest_change_number = dest_change_number[dest_change_number.order_id_new > 20].sort_values('percentage_change_in_upfront_price', ascending=False)\n",
    "dest_change_number.head(2)"
   ]
  },
  {
   "cell_type": "code",
   "execution_count": null,
   "id": "93334aa7-5434-4204-b5a2-2607ee9f699e",
   "metadata": {},
   "outputs": [],
   "source": []
  },
  {
   "cell_type": "code",
   "execution_count": 424,
   "id": "5c0e0d11-6e89-4644-b35c-86bd2390464a",
   "metadata": {},
   "outputs": [
    {
     "data": {
      "text/plain": [
       "0.4086181277860327"
      ]
     },
     "execution_count": 424,
     "metadata": {},
     "output_type": "execute_result"
    }
   ],
   "source": [
    "len(highchange_up_df[highchange_up_df.fraud_score.isna()]) / len(highchange_up_df)"
   ]
  },
  {
   "cell_type": "code",
   "execution_count": 412,
   "id": "4dece849-ab71-47d7-a05a-967d39c0db36",
   "metadata": {},
   "outputs": [
    {
     "data": {
      "text/html": [
       "<div>\n",
       "<style scoped>\n",
       "    .dataframe tbody tr th:only-of-type {\n",
       "        vertical-align: middle;\n",
       "    }\n",
       "\n",
       "    .dataframe tbody tr th {\n",
       "        vertical-align: top;\n",
       "    }\n",
       "\n",
       "    .dataframe thead th {\n",
       "        text-align: right;\n",
       "    }\n",
       "</style>\n",
       "<table border=\"1\" class=\"dataframe\">\n",
       "  <thead>\n",
       "    <tr style=\"text-align: right;\">\n",
       "      <th></th>\n",
       "      <th>fraud_bin</th>\n",
       "      <th>order_id_new</th>\n",
       "      <th>upfront_price</th>\n",
       "      <th>metered_price</th>\n",
       "      <th>percentage_change_in_upfront_price</th>\n",
       "    </tr>\n",
       "  </thead>\n",
       "  <tbody>\n",
       "    <tr>\n",
       "      <th>8</th>\n",
       "      <td>8.0</td>\n",
       "      <td>75</td>\n",
       "      <td>105.613333</td>\n",
       "      <td>237.201467</td>\n",
       "      <td>50.359021</td>\n",
       "    </tr>\n",
       "    <tr>\n",
       "      <th>2</th>\n",
       "      <td>2.0</td>\n",
       "      <td>79</td>\n",
       "      <td>5.445570</td>\n",
       "      <td>7.106203</td>\n",
       "      <td>45.198331</td>\n",
       "    </tr>\n",
       "  </tbody>\n",
       "</table>\n",
       "</div>"
      ],
      "text/plain": [
       "   fraud_bin  order_id_new  upfront_price  metered_price  \\\n",
       "8        8.0            75     105.613333     237.201467   \n",
       "2        2.0            79       5.445570       7.106203   \n",
       "\n",
       "   percentage_change_in_upfront_price  \n",
       "8                           50.359021  \n",
       "2                           45.198331  "
      ]
     },
     "execution_count": 412,
     "metadata": {},
     "output_type": "execute_result"
    }
   ],
   "source": [
    "highchange_up_df['fraud_bin'] = pd.qcut(highchange_up_df.fraud_score, 10, labels=False)\n",
    "fraud_score = highchange_up_df.groupby(['fraud_bin']).agg({'order_id_new': np.size, 'upfront_price': np.mean, 'metered_price': np.mean, 'percentage_change_in_upfront_price': np.mean}).reset_index()\n",
    "fraud_score = fraud_score[fraud_score.order_id_new > 10].sort_values('percentage_change_in_upfront_price', ascending=False)\n",
    "fraud_score.head(2)"
   ]
  },
  {
   "cell_type": "code",
   "execution_count": 408,
   "id": "546d936a-9f0d-4ed3-8256-185c49db703f",
   "metadata": {},
   "outputs": [
    {
     "data": {
      "text/plain": [
       "<Axes: xlabel='fraud_score', ylabel='Density'>"
      ]
     },
     "execution_count": 408,
     "metadata": {},
     "output_type": "execute_result"
    },
    {
     "data": {
      "image/png": "[encoded data removed]",
      "text/plain": [
       "<Figure size 1000x400 with 1 Axes>"
      ]
     },
     "metadata": {},
     "output_type": "display_data"
    }
   ],
   "source": [
    "sns.distplot(highchange_up_df.fraud_score)"
   ]
  },
  {
   "cell_type": "code",
   "execution_count": 409,
   "id": "8e3f8705-b3a4-4d6e-9eb4-f1835a09a7c7",
   "metadata": {},
   "outputs": [
    {
     "data": {
      "text/plain": [
       "0.10   -1850.00\n",
       "0.25    -890.25\n",
       "0.50    -294.00\n",
       "0.75     -89.00\n",
       "0.90      -5.50\n",
       "Name: fraud_score, dtype: float64"
      ]
     },
     "execution_count": 409,
     "metadata": {},
     "output_type": "execute_result"
    }
   ],
   "source": [
    "highchange_up_df.fraud_score.quantile([0.1, 0.25, 0.5, 0.75, 0.9])"
   ]
  },
  {
   "cell_type": "code",
   "execution_count": 416,
   "id": "92d7a141-eaab-4288-a311-c23a98ad2ccc",
   "metadata": {},
   "outputs": [
    {
     "data": {
      "text/plain": [
       "(-1084.0, -701.0)"
      ]
     },
     "execution_count": 416,
     "metadata": {},
     "output_type": "execute_result"
    }
   ],
   "source": [
    "highchange_up_df[highchange_up_df.fraud_bin==2].fraud_score.min(), highchange_up_df[highchange_up_df.fraud_bin==2].fraud_score.max()"
   ]
  },
  {
   "cell_type": "code",
   "execution_count": 404,
   "id": "0948a5be-f268-4b89-b01f-01e352b0127e",
   "metadata": {},
   "outputs": [
    {
     "data": {
      "text/plain": [
       "0.5913818722139673"
      ]
     },
     "execution_count": 404,
     "metadata": {},
     "output_type": "execute_result"
    }
   ],
   "source": [
    "len(highchange_up_df[highchange_up_df.fraud_score.notna()]) / len(highchange_up_df)"
   ]
  },
  {
   "cell_type": "code",
   "execution_count": null,
   "id": "e4ac69d8-9610-4964-9e8f-4bdd59376092",
   "metadata": {},
   "outputs": [],
   "source": []
  },
  {
   "cell_type": "code",
   "execution_count": 421,
   "id": "8a35407a-05f5-4fbf-8f8a-e2a3f8eac2d6",
   "metadata": {},
   "outputs": [
    {
     "data": {
      "text/html": [
       "<div>\n",
       "<style scoped>\n",
       "    .dataframe tbody tr th:only-of-type {\n",
       "        vertical-align: middle;\n",
       "    }\n",
       "\n",
       "    .dataframe tbody tr th {\n",
       "        vertical-align: top;\n",
       "    }\n",
       "\n",
       "    .dataframe thead th {\n",
       "        text-align: right;\n",
       "    }\n",
       "</style>\n",
       "<table border=\"1\" class=\"dataframe\">\n",
       "  <thead>\n",
       "    <tr style=\"text-align: right;\">\n",
       "      <th></th>\n",
       "      <th>metered_price</th>\n",
       "      <th>upfront_price</th>\n",
       "      <th>distance</th>\n",
       "      <th>duration</th>\n",
       "      <th>gps_confidence</th>\n",
       "      <th>predicted_distance</th>\n",
       "      <th>predicted_duration</th>\n",
       "      <th>eu_indicator</th>\n",
       "      <th>dest_change_number</th>\n",
       "      <th>fraud_score</th>\n",
       "      <th>percentage_change_in_upfront_price</th>\n",
       "    </tr>\n",
       "  </thead>\n",
       "  <tbody>\n",
       "    <tr>\n",
       "      <th>0</th>\n",
       "      <td>4.04</td>\n",
       "      <td>10.0</td>\n",
       "      <td>2839</td>\n",
       "      <td>700</td>\n",
       "      <td>1</td>\n",
       "      <td>13384.0</td>\n",
       "      <td>1091.0</td>\n",
       "      <td>1</td>\n",
       "      <td>1</td>\n",
       "      <td>-1383.0</td>\n",
       "      <td>59.600000</td>\n",
       "    </tr>\n",
       "    <tr>\n",
       "      <th>1</th>\n",
       "      <td>6.09</td>\n",
       "      <td>3.6</td>\n",
       "      <td>5698</td>\n",
       "      <td>493</td>\n",
       "      <td>1</td>\n",
       "      <td>2286.0</td>\n",
       "      <td>360.0</td>\n",
       "      <td>1</td>\n",
       "      <td>1</td>\n",
       "      <td>NaN</td>\n",
       "      <td>69.166667</td>\n",
       "    </tr>\n",
       "    <tr>\n",
       "      <th>2</th>\n",
       "      <td>4.32</td>\n",
       "      <td>3.5</td>\n",
       "      <td>4426</td>\n",
       "      <td>695</td>\n",
       "      <td>1</td>\n",
       "      <td>4101.0</td>\n",
       "      <td>433.0</td>\n",
       "      <td>1</td>\n",
       "      <td>1</td>\n",
       "      <td>-166.0</td>\n",
       "      <td>23.428571</td>\n",
       "    </tr>\n",
       "    <tr>\n",
       "      <th>3</th>\n",
       "      <td>72871.72</td>\n",
       "      <td>NaN</td>\n",
       "      <td>49748</td>\n",
       "      <td>1400</td>\n",
       "      <td>0</td>\n",
       "      <td>3017.0</td>\n",
       "      <td>600.0</td>\n",
       "      <td>0</td>\n",
       "      <td>2</td>\n",
       "      <td>NaN</td>\n",
       "      <td>NaN</td>\n",
       "    </tr>\n",
       "    <tr>\n",
       "      <th>4</th>\n",
       "      <td>20032.50</td>\n",
       "      <td>19500.0</td>\n",
       "      <td>10273</td>\n",
       "      <td>5067</td>\n",
       "      <td>1</td>\n",
       "      <td>14236.0</td>\n",
       "      <td>2778.0</td>\n",
       "      <td>0</td>\n",
       "      <td>1</td>\n",
       "      <td>NaN</td>\n",
       "      <td>2.730769</td>\n",
       "    </tr>\n",
       "  </tbody>\n",
       "</table>\n",
       "</div>"
      ],
      "text/plain": [
       "   metered_price  upfront_price  distance  duration  gps_confidence  \\\n",
       "0           4.04           10.0      2839       700               1   \n",
       "1           6.09            3.6      5698       493               1   \n",
       "2           4.32            3.5      4426       695               1   \n",
       "3       72871.72            NaN     49748      1400               0   \n",
       "4       20032.50        19500.0     10273      5067               1   \n",
       "\n",
       "   predicted_distance  predicted_duration  eu_indicator  dest_change_number  \\\n",
       "0             13384.0              1091.0             1                   1   \n",
       "1              2286.0               360.0             1                   1   \n",
       "2              4101.0               433.0             1                   1   \n",
       "3              3017.0               600.0             0                   2   \n",
       "4             14236.0              2778.0             0                   1   \n",
       "\n",
       "   fraud_score  percentage_change_in_upfront_price  \n",
       "0      -1383.0                           59.600000  \n",
       "1          NaN                           69.166667  \n",
       "2       -166.0                           23.428571  \n",
       "3          NaN                                 NaN  \n",
       "4          NaN                            2.730769  "
      ]
     },
     "execution_count": 421,
     "metadata": {},
     "output_type": "execute_result"
    }
   ],
   "source": [
    "cols = ['metered_price', 'upfront_price', 'distance', 'duration', 'gps_confidence', 'predicted_distance', 'predicted_duration', 'eu_indicator',\n",
    "        'dest_change_number', 'fraud_score', 'percentage_change_in_upfront_price']\n",
    "df[cols].head()"
   ]
  },
  {
   "cell_type": "code",
   "execution_count": 422,
   "id": "72da5e83-8929-49f8-9a0a-e01d37efc5a7",
   "metadata": {},
   "outputs": [
    {
     "data": {
      "text/plain": [
       "<Axes: >"
      ]
     },
     "execution_count": 422,
     "metadata": {},
     "output_type": "execute_result"
    },
    {
     "data": {
      "image/png": "[encoded data removed]",
      "text/plain": [
       "<Figure size 1000x400 with 2 Axes>"
      ]
     },
     "metadata": {},
     "output_type": "display_data"
    }
   ],
   "source": [
    "sns.heatmap(df[cols].corr(method ='pearson'), annot=True, fmt='.1f')"
   ]
  },
  {
   "cell_type": "code",
   "execution_count": 51,
   "id": "c9dae234-1744-4bf9-81fb-0a182b83602b",
   "metadata": {},
   "outputs": [
    {
     "data": {
      "text/plain": [
       "0.10        3.4500\n",
       "0.25        5.3800\n",
       "0.50       13.3500\n",
       "0.75    10991.6700\n",
       "0.90    22104.4600\n",
       "0.95    33581.6620\n",
       "0.99    73460.1088\n",
       "Name: metered_price, dtype: float64"
      ]
     },
     "execution_count": 51,
     "metadata": {},
     "output_type": "execute_result"
    }
   ],
   "source": [
    "df.metered_price.quantile([0.1,0.25,0.5,0.75,0.9,0.95,0.99])"
   ]
  },
  {
   "cell_type": "code",
   "execution_count": 49,
   "id": "72e3110b-081d-4d14-84be-388e89f22951",
   "metadata": {},
   "outputs": [
    {
     "data": {
      "text/plain": [
       "0.10        3.0\n",
       "0.25        4.2\n",
       "0.50        6.6\n",
       "0.75     4000.0\n",
       "0.90    13500.0\n",
       "0.95    18500.0\n",
       "0.99    42960.0\n",
       "Name: upfront_price, dtype: float64"
      ]
     },
     "execution_count": 49,
     "metadata": {},
     "output_type": "execute_result"
    }
   ],
   "source": [
    "df.upfront_price.quantile([0.1,0.25,0.5,0.75,0.9,0.95,0.99])"
   ]
  },
  {
   "cell_type": "code",
   "execution_count": 61,
   "id": "da209d70-a690-4e85-b7c7-6f088296d727",
   "metadata": {},
   "outputs": [
    {
     "data": {
      "text/plain": [
       "<Axes: xlabel='metered_price', ylabel='Density'>"
      ]
     },
     "execution_count": 61,
     "metadata": {},
     "output_type": "execute_result"
    },
    {
     "data": {
      "image/png": "[encoded data removed]",
      "text/plain": [
       "<Figure size 640x480 with 1 Axes>"
      ]
     },
     "metadata": {},
     "output_type": "display_data"
    }
   ],
   "source": [
    "sns.distplot(df[df.metered_price < 50].metered_price)"
   ]
  },
  {
   "cell_type": "code",
   "execution_count": 60,
   "id": "6f29018e-1a9a-4f0e-9a9f-fab82ac7c5ea",
   "metadata": {},
   "outputs": [
    {
     "data": {
      "text/plain": [
       "<Axes: xlabel='upfront_price', ylabel='Density'>"
      ]
     },
     "execution_count": 60,
     "metadata": {},
     "output_type": "execute_result"
    },
    {
     "data": {
      "image/png": "[encoded data removed]",
      "text/plain": [
       "<Figure size 640x480 with 1 Axes>"
      ]
     },
     "metadata": {},
     "output_type": "display_data"
    }
   ],
   "source": [
    "sns.distplot(df[df.upfront_price < 50].upfront_price)"
   ]
  },
  {
   "cell_type": "code",
   "execution_count": 63,
   "id": "94f689fa-5dad-424f-b83e-dbc41e69d8a4",
   "metadata": {},
   "outputs": [
    {
     "data": {
      "text/plain": [
       "(7998.471295957749, 4160.095746553242)"
      ]
     },
     "execution_count": 63,
     "metadata": {},
     "output_type": "execute_result"
    }
   ],
   "source": [
    "df.metered_price.mean(), df.upfront_price.mean()"
   ]
  },
  {
   "cell_type": "code",
   "execution_count": 58,
   "id": "5e755280-980e-4df5-8d46-d76bb6a05793",
   "metadata": {},
   "outputs": [
    {
     "data": {
      "text/plain": [
       "(13.35, 6.6)"
      ]
     },
     "execution_count": 58,
     "metadata": {},
     "output_type": "execute_result"
    }
   ],
   "source": [
    "df.metered_price.median(), df.upfront_price.median()"
   ]
  },
  {
   "cell_type": "code",
   "execution_count": null,
   "id": "9eb36934-ec86-4eb0-9539-8b6dff25742d",
   "metadata": {},
   "outputs": [],
   "source": []
  },
  {
   "cell_type": "code",
   "execution_count": null,
   "id": "1b0fc564-16a8-4f65-a208-058e33cb5586",
   "metadata": {},
   "outputs": [],
   "source": []
  },
  {
   "cell_type": "code",
   "execution_count": null,
   "id": "2723796f-f193-4d32-8f4d-68e57a352c8c",
   "metadata": {},
   "outputs": [],
   "source": []
  }
 ],
 "metadata": {
  "kernelspec": {
   "display_name": "Python 3 (ipykernel)",
   "language": "python",
   "name": "python3"
  },
  "language_info": {
   "codemirror_mode": {
    "name": "ipython",
    "version": 3
   },
   "file_extension": ".py",
   "mimetype": "text/x-python",
   "name": "python",
   "nbconvert_exporter": "python",
   "pygments_lexer": "ipython3",
   "version": "3.9.18"
  }
 },
 "nbformat": 4,
 "nbformat_minor": 5
}
